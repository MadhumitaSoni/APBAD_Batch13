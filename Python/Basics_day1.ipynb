{
 "cells": [
  {
   "cell_type": "code",
   "execution_count": 2,
   "id": "68b40ec1",
   "metadata": {},
   "outputs": [
    {
     "name": "stdout",
     "output_type": "stream",
     "text": [
      "hello world\n"
     ]
    }
   ],
   "source": [
    "print(\"hello world\");\n",
    "# print is used to display something"
   ]
  },
  {
   "cell_type": "code",
   "execution_count": 6,
   "id": "6be67439",
   "metadata": {},
   "outputs": [
    {
     "name": "stdout",
     "output_type": "stream",
     "text": [
      "the result of adding 222 and 444 is 666\n"
     ]
    }
   ],
   "source": [
    "num1=222\n",
    "num2=444\n",
    "result=num1+num2\n",
    "print('the result of adding',num1,'and',num2,'is',result)"
   ]
  },
  {
   "cell_type": "code",
   "execution_count": 12,
   "id": "e762a6e3",
   "metadata": {},
   "outputs": [
    {
     "name": "stdout",
     "output_type": "stream",
     "text": [
      "1.688622754491018\n"
     ]
    }
   ],
   "source": [
    "num3=num2/num1\n",
    "print(num3)"
   ]
  },
  {
   "cell_type": "code",
   "execution_count": 9,
   "id": "05365a22",
   "metadata": {},
   "outputs": [
    {
     "name": "stdout",
     "output_type": "stream",
     "text": [
      "enter first number334\n",
      "enter second number564\n",
      "898\n"
     ]
    }
   ],
   "source": [
    "num1=int(input('enter first number'))\n",
    "num2=int(input('enter second number'))\n",
    "addition= num1+num2\n",
    "print(addition)\n"
   ]
  },
  {
   "cell_type": "code",
   "execution_count": 27,
   "id": "098853bf",
   "metadata": {},
   "outputs": [
    {
     "name": "stdout",
     "output_type": "stream",
     "text": [
      "Enter first number 25\n",
      "Enter second number 2\n",
      "The result of adding 25 and 2 is 27\n",
      "The result of substracting 25 and 2 is 23\n",
      "The result of multiplying 25 and 2 is 50\n",
      "The result of dividing 25 and 2 is 12.5\n",
      "The result of remainder 25 and 2 is 1\n",
      "The result of exponential 25 and 2 is 625\n",
      "The result of integral result 25 and 2 is 12\n"
     ]
    }
   ],
   "source": [
    "# taking input from the user\n",
    "# creating a simple calculator \n",
    "# all the values that enter the python is by default string \n",
    "# we need convert the string into numbers-integers \n",
    "# string(str), integer(int), decimal(float), boolean\n",
    "# arithmetic operator- +,-,*,/,%(modulus),**,//\n",
    "\n",
    "num1=int(input(\"Enter first number \"))#type casting - changing one data type to another \n",
    "num2=int(input(\"Enter second number \"))\n",
    "addition= num1+num2\n",
    "substraction=num1-num2\n",
    "multiplication=num1*num2\n",
    "division=num1/num2\n",
    "remainder=num1%num2\n",
    "exponential=num1**num2\n",
    "integral=num1//num2\n",
    "print('The result of adding',num1,'and',num2,'is',addition)\n",
    "print('The result of substracting',num1,'and',num2,'is',substraction)\n",
    "print('The result of multiplying',num1,'and',num2,'is',multiplication)\n",
    "print('The result of dividing',num1,'and',num2,'is',division)\n",
    "print('The result of remainder',num1,'and',num2,'is',remainder)\n",
    "print('The result of exponential',num1,'and',num2,'is',exponential)\n",
    "print('The result of integral result',num1,'and',num2,'is',integral)"
   ]
  },
  {
   "cell_type": "code",
   "execution_count": 29,
   "id": "e8ff3bf5",
   "metadata": {},
   "outputs": [
    {
     "name": "stdout",
     "output_type": "stream",
     "text": [
      "enter the no.4\n",
      "the square the no. is 16\n"
     ]
    }
   ],
   "source": [
    "def power():\n",
    "    num1=int(input('enter the no.'))\n",
    "    print('the square the no. is',num1**2)\n",
    "power()"
   ]
  },
  {
   "cell_type": "code",
   "execution_count": 31,
   "id": "9b377616",
   "metadata": {},
   "outputs": [
    {
     "name": "stdout",
     "output_type": "stream",
     "text": [
      "enter the number 66\n",
      "Number is even = True\n"
     ]
    }
   ],
   "source": [
    "def even():\n",
    "    num1=int(input('enter the number '))\n",
    "    print('Number is even =', num1%2==0)\n",
    "even()"
   ]
  },
  {
   "cell_type": "code",
   "execution_count": 32,
   "id": "64ab7cca",
   "metadata": {},
   "outputs": [
    {
     "name": "stdout",
     "output_type": "stream",
     "text": [
      "the sum of the no. 600\n"
     ]
    }
   ],
   "source": [
    "def add(x,y,z):\n",
    "    print('the sum of the no.',x+y+z)\n",
    "num1=100\n",
    "num2=200\n",
    "num3=300\n",
    "add(num1,num2,num3)\n"
   ]
  },
  {
   "cell_type": "code",
   "execution_count": 36,
   "id": "e7d6a9b2",
   "metadata": {},
   "outputs": [
    {
     "name": "stdout",
     "output_type": "stream",
     "text": [
      "enter the number 77\n",
      "No. is odd\n"
     ]
    }
   ],
   "source": [
    "def even(x):\n",
    "    if x%2==0:\n",
    "        print('No. is even')\n",
    "    else:\n",
    "        print('No. is odd')\n",
    "num1=int(input('enter the number '))\n",
    "even(num1)"
   ]
  },
  {
   "cell_type": "code",
   "execution_count": 5,
   "id": "d1e56136",
   "metadata": {},
   "outputs": [
    {
     "name": "stdout",
     "output_type": "stream",
     "text": [
      "no is positive\n",
      "no is negative\n",
      "no is negative\n"
     ]
    }
   ],
   "source": [
    "def sign(x):\n",
    "    if x>0:\n",
    "        print('no is positive')\n",
    "    else:\n",
    "        print('no is negative')\n",
    "sign(45)\n",
    "sign(-20)\n",
    "sign(0)"
   ]
  },
  {
   "cell_type": "code",
   "execution_count": 10,
   "id": "ff8d6738",
   "metadata": {},
   "outputs": [
    {
     "name": "stdout",
     "output_type": "stream",
     "text": [
      "enter the number -6\n",
      "no is negative\n"
     ]
    }
   ],
   "source": [
    "def sign(x):\n",
    "    if x>0:\n",
    "        print('no. is positive')\n",
    "    elif x==0:\n",
    "        print('no. is zero')\n",
    "    else:\n",
    "       print('no is negative') \n",
    "num1=int(input('enter the number '))    \n",
    "sign(num1)\n"
   ]
  },
  {
   "cell_type": "code",
   "execution_count": 16,
   "id": "bbd3c097",
   "metadata": {},
   "outputs": [
    {
     "name": "stdout",
     "output_type": "stream",
     "text": [
      "enter the number 1\n",
      "Feedback is very bad\n"
     ]
    }
   ],
   "source": [
    "def feedback(x):\n",
    "    if x==5:\n",
    "        print('Feedback is excellent')\n",
    "    elif x==4:\n",
    "        print('Feedback is good')\n",
    "    elif x==3:\n",
    "        print('Feedback is average')\n",
    "    elif x==2:\n",
    "        print('Feedback is bad')\n",
    "    else:\n",
    "        print('Feedback is very bad')\n",
    "num=int(input('enter the number '))  \n",
    "\n",
    "feedback(num)    \n",
    "    "
   ]
  },
  {
   "cell_type": "code",
   "execution_count": 19,
   "id": "1006e35e",
   "metadata": {},
   "outputs": [
    {
     "name": "stdout",
     "output_type": "stream",
     "text": [
      "Please rate your experience (1 to 5): 0\n",
      "Invalid input. Please enter a number between 1 and 5.\n",
      "Please rate your experience (1 to 5): 3\n",
      "Thank you. Your experience was average.\n",
      "Please provide additional comments about your experience: can do better\n",
      "Thank you for your feedback! You said: can do better\n"
     ]
    }
   ],
   "source": [
    "\n",
    "def survey_feedback(rating):\n",
    "    if rating == 1:\n",
    "        print(\"We're sorry your experience was terrible.\")\n",
    "    elif rating == 2:\n",
    "        print(\"We're sorry your experience was bad.\")\n",
    "    elif rating == 3:\n",
    "        print(\"Thank you. Your experience was average.\")\n",
    "    elif rating == 4:\n",
    "        print(\"Great! We're glad you had a good experience.\")\n",
    "    elif rating == 5:\n",
    "        print(\"Excellent! We're thrilled you had a fantastic experience.\")\n",
    "    else:\n",
    "        print(\"Invalid rating. Please enter a number between 1 and 5.\")\n",
    "def get_comments():\n",
    "    comments = input(\"Please provide additional comments about your experience: \")\n",
    "    print(f\"Thank you for your feedback! You said: {comments}\")\n",
    "while True:\n",
    "    try:\n",
    "        rating = int(input(\"Please rate your experience (1 to 5): \"))     \n",
    "        if 1 <= rating <= 5:\n",
    "            survey_feedback(rating)\n",
    "            get_comments()\n",
    "            break\n",
    "        else:\n",
    "            print(\"Invalid input. Please enter a number between 1 and 5.\")\n",
    "    except ValueError:\n",
    "        print(\"Invalid input. Please I tried leaving the meeting and joining again\")"
   ]
  },
  {
   "cell_type": "code",
   "execution_count": null,
   "id": "8d9a6344",
   "metadata": {},
   "outputs": [],
   "source": []
  }
 ],
 "metadata": {
  "kernelspec": {
   "display_name": "Python 3 (ipykernel)",
   "language": "python",
   "name": "python3"
  },
  "language_info": {
   "codemirror_mode": {
    "name": "ipython",
    "version": 3
   },
   "file_extension": ".py",
   "mimetype": "text/x-python",
   "name": "python",
   "nbconvert_exporter": "python",
   "pygments_lexer": "ipython3",
   "version": "3.11.5"
  }
 },
 "nbformat": 4,
 "nbformat_minor": 5
}
